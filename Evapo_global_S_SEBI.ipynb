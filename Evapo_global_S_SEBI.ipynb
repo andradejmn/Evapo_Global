{
  "nbformat": 4,
  "nbformat_minor": 0,
  "metadata": {
    "colab": {
      "name": "Evapo_global_S_SEBI.ipynb",
      "provenance": [],
      "collapsed_sections": [],
      "authorship_tag": "ABX9TyM8TtVBGdQo6L5Sjjvo8jg1",
      "include_colab_link": true
    },
    "kernelspec": {
      "name": "python3",
      "display_name": "Python 3"
    },
    "language_info": {
      "name": "python"
    }
  },
  "cells": [
    {
      "cell_type": "markdown",
      "metadata": {
        "id": "view-in-github",
        "colab_type": "text"
      },
      "source": [
        "<a href=\"https://colab.research.google.com/github/andradejmn/Evapo_Global/blob/main/Evapo_global_S_SEBI.ipynb\" target=\"_parent\"><img src=\"https://colab.research.google.com/assets/colab-badge.svg\" alt=\"Open In Colab\"/></a>"
      ]
    },
    {
      "cell_type": "code",
      "metadata": {
        "colab": {
          "base_uri": "https://localhost:8080/",
          "height": 35
        },
        "id": "5j71ISA-i0cu",
        "outputId": "0d694c27-f52e-4509-d83a-18c541f73e81"
      },
      "source": [
        "# !pip install geemap\n",
        "import subprocess\n",
        "try:\n",
        "    import geemap\n",
        "except ImportError:\n",
        "    print('Installing geemap ...')\n",
        "    subprocess.check_call([\"python\", '-m', 'pip', 'install', 'geemap'])\n",
        "\n",
        "import ee\n",
        "import geemap\n",
        "import os\n",
        "#Map = geemap.Map(center=[-22.7,-50.4], zoom=8)\n",
        "#ee.Authenticate()"
      ],
      "execution_count": 1,
      "outputs": [
        {
          "output_type": "stream",
          "name": "stdout",
          "text": [
            "Installing geemap ...\n"
          ]
        }
      ]
    },
    {
      "cell_type": "code",
      "metadata": {
        "id": "abUgQ27TjNmK"
      },
      "source": [
        "#import hydrostats.metrics as hm\n",
        "import numpy as np\n",
        "import pandas as pd\n",
        "import datetime\n",
        "import pprint\n",
        "import math\n",
        "import matplotlib.pyplot as plt"
      ],
      "execution_count": 2,
      "outputs": []
    },
    {
      "cell_type": "code",
      "metadata": {
        "id": "4Sfu_8uCkPAy",
        "colab": {
          "base_uri": "https://localhost:8080/"
        },
        "outputId": "c67f1243-fdb5-4d10-b6d9-5da523bcf8de"
      },
      "source": [
        "#Processamento e visualização do Geopandas \n",
        "# Important library for many geopython libraries\n",
        "#!apt install gdal-bin python-gdal python3-gdal \n",
        "# Install rtree - Geopandas requirment\n",
        "!apt install python3-rtree \n",
        "# Install Geopandas\n",
        "!pip install git+git://github.com/geopandas/geopandas.git\n",
        "# Install descartes - Geopandas requirment\n",
        "!pip install descartes \n",
        "# Install Folium for Geographic data visualization\n",
        "#!pip install folium\n",
        "# Install plotlyExpress\n",
        "#!pip install plotly_express"
      ],
      "execution_count": 3,
      "outputs": [
        {
          "output_type": "stream",
          "name": "stdout",
          "text": [
            "Reading package lists... Done\n",
            "Building dependency tree       \n",
            "Reading state information... Done\n",
            "The following additional packages will be installed:\n",
            "  libspatialindex-c4v5 libspatialindex-dev libspatialindex4v5\n",
            "  python3-pkg-resources\n",
            "Suggested packages:\n",
            "  python3-setuptools\n",
            "The following NEW packages will be installed:\n",
            "  libspatialindex-c4v5 libspatialindex-dev libspatialindex4v5\n",
            "  python3-pkg-resources python3-rtree\n",
            "0 upgraded, 5 newly installed, 0 to remove and 37 not upgraded.\n",
            "Need to get 671 kB of archives.\n",
            "After this operation, 3,948 kB of additional disk space will be used.\n",
            "Get:1 http://archive.ubuntu.com/ubuntu bionic/universe amd64 libspatialindex4v5 amd64 1.8.5-5 [219 kB]\n",
            "Get:2 http://archive.ubuntu.com/ubuntu bionic/universe amd64 libspatialindex-c4v5 amd64 1.8.5-5 [51.7 kB]\n",
            "Get:3 http://archive.ubuntu.com/ubuntu bionic/main amd64 python3-pkg-resources all 39.0.1-2 [98.8 kB]\n",
            "Get:4 http://archive.ubuntu.com/ubuntu bionic/universe amd64 libspatialindex-dev amd64 1.8.5-5 [285 kB]\n",
            "Get:5 http://archive.ubuntu.com/ubuntu bionic/universe amd64 python3-rtree all 0.8.3+ds-1 [16.9 kB]\n",
            "Fetched 671 kB in 1s (630 kB/s)\n",
            "Selecting previously unselected package libspatialindex4v5:amd64.\n",
            "(Reading database ... 155219 files and directories currently installed.)\n",
            "Preparing to unpack .../libspatialindex4v5_1.8.5-5_amd64.deb ...\n",
            "Unpacking libspatialindex4v5:amd64 (1.8.5-5) ...\n",
            "Selecting previously unselected package libspatialindex-c4v5:amd64.\n",
            "Preparing to unpack .../libspatialindex-c4v5_1.8.5-5_amd64.deb ...\n",
            "Unpacking libspatialindex-c4v5:amd64 (1.8.5-5) ...\n",
            "Selecting previously unselected package python3-pkg-resources.\n",
            "Preparing to unpack .../python3-pkg-resources_39.0.1-2_all.deb ...\n",
            "Unpacking python3-pkg-resources (39.0.1-2) ...\n",
            "Selecting previously unselected package libspatialindex-dev:amd64.\n",
            "Preparing to unpack .../libspatialindex-dev_1.8.5-5_amd64.deb ...\n",
            "Unpacking libspatialindex-dev:amd64 (1.8.5-5) ...\n",
            "Selecting previously unselected package python3-rtree.\n",
            "Preparing to unpack .../python3-rtree_0.8.3+ds-1_all.deb ...\n",
            "Unpacking python3-rtree (0.8.3+ds-1) ...\n",
            "Setting up libspatialindex4v5:amd64 (1.8.5-5) ...\n",
            "Setting up python3-pkg-resources (39.0.1-2) ...\n",
            "Setting up libspatialindex-c4v5:amd64 (1.8.5-5) ...\n",
            "Setting up libspatialindex-dev:amd64 (1.8.5-5) ...\n",
            "Setting up python3-rtree (0.8.3+ds-1) ...\n",
            "Processing triggers for libc-bin (2.27-3ubuntu1.3) ...\n",
            "/sbin/ldconfig.real: /usr/local/lib/python3.7/dist-packages/ideep4py/lib/libmkldnn.so.0 is not a symbolic link\n",
            "\n",
            "Collecting git+git://github.com/geopandas/geopandas.git\n",
            "  Cloning git://github.com/geopandas/geopandas.git to /tmp/pip-req-build-xr_yihd3\n",
            "  Running command git clone -q git://github.com/geopandas/geopandas.git /tmp/pip-req-build-xr_yihd3\n",
            "Requirement already satisfied: pandas>=0.25.0 in /usr/local/lib/python3.7/dist-packages (from geopandas==0.10.2+3.g528abfc) (1.1.5)\n",
            "Requirement already satisfied: shapely>=1.6 in /usr/local/lib/python3.7/dist-packages (from geopandas==0.10.2+3.g528abfc) (1.7.1)\n",
            "Collecting fiona>=1.8\n",
            "  Downloading Fiona-1.8.20-cp37-cp37m-manylinux1_x86_64.whl (15.4 MB)\n",
            "\u001b[K     |████████████████████████████████| 15.4 MB 38 kB/s \n",
            "\u001b[?25hRequirement already satisfied: pyproj>=2.2.0 in /usr/local/lib/python3.7/dist-packages (from geopandas==0.10.2+3.g528abfc) (3.2.1)\n",
            "Requirement already satisfied: click>=4.0 in /usr/local/lib/python3.7/dist-packages (from fiona>=1.8->geopandas==0.10.2+3.g528abfc) (7.1.2)\n",
            "Collecting cligj>=0.5\n",
            "  Downloading cligj-0.7.2-py3-none-any.whl (7.1 kB)\n",
            "Requirement already satisfied: certifi in /usr/local/lib/python3.7/dist-packages (from fiona>=1.8->geopandas==0.10.2+3.g528abfc) (2021.5.30)\n",
            "Collecting click-plugins>=1.0\n",
            "  Downloading click_plugins-1.1.1-py2.py3-none-any.whl (7.5 kB)\n",
            "Requirement already satisfied: attrs>=17 in /usr/local/lib/python3.7/dist-packages (from fiona>=1.8->geopandas==0.10.2+3.g528abfc) (21.2.0)\n",
            "Requirement already satisfied: setuptools in /usr/local/lib/python3.7/dist-packages (from fiona>=1.8->geopandas==0.10.2+3.g528abfc) (57.4.0)\n",
            "Requirement already satisfied: six>=1.7 in /usr/local/lib/python3.7/dist-packages (from fiona>=1.8->geopandas==0.10.2+3.g528abfc) (1.15.0)\n",
            "Collecting munch\n",
            "  Downloading munch-2.5.0-py2.py3-none-any.whl (10 kB)\n",
            "Requirement already satisfied: numpy>=1.15.4 in /usr/local/lib/python3.7/dist-packages (from pandas>=0.25.0->geopandas==0.10.2+3.g528abfc) (1.19.5)\n",
            "Requirement already satisfied: pytz>=2017.2 in /usr/local/lib/python3.7/dist-packages (from pandas>=0.25.0->geopandas==0.10.2+3.g528abfc) (2018.9)\n",
            "Requirement already satisfied: python-dateutil>=2.7.3 in /usr/local/lib/python3.7/dist-packages (from pandas>=0.25.0->geopandas==0.10.2+3.g528abfc) (2.8.2)\n",
            "Building wheels for collected packages: geopandas\n",
            "  Building wheel for geopandas (setup.py) ... \u001b[?25l\u001b[?25hdone\n",
            "  Created wheel for geopandas: filename=geopandas-0.10.2+3.g528abfc-py2.py3-none-any.whl size=1031560 sha256=88b11bf46ac7d0b78193e54d63c0cc7b053836ea76eafe421828cab17009f9e9\n",
            "  Stored in directory: /tmp/pip-ephem-wheel-cache-1b9qbr8s/wheels/cf/3e/0b/6475054094c2b1ea054158ac1fdcf749fb92f5b512377e4cf8\n",
            "Successfully built geopandas\n",
            "Installing collected packages: munch, cligj, click-plugins, fiona, geopandas\n",
            "Successfully installed click-plugins-1.1.1 cligj-0.7.2 fiona-1.8.20 geopandas-0.10.2+3.g528abfc munch-2.5.0\n",
            "Requirement already satisfied: descartes in /usr/local/lib/python3.7/dist-packages (1.1.0)\n",
            "Requirement already satisfied: matplotlib in /usr/local/lib/python3.7/dist-packages (from descartes) (3.2.2)\n",
            "Requirement already satisfied: cycler>=0.10 in /usr/local/lib/python3.7/dist-packages (from matplotlib->descartes) (0.10.0)\n",
            "Requirement already satisfied: numpy>=1.11 in /usr/local/lib/python3.7/dist-packages (from matplotlib->descartes) (1.19.5)\n",
            "Requirement already satisfied: python-dateutil>=2.1 in /usr/local/lib/python3.7/dist-packages (from matplotlib->descartes) (2.8.2)\n",
            "Requirement already satisfied: pyparsing!=2.0.4,!=2.1.2,!=2.1.6,>=2.0.1 in /usr/local/lib/python3.7/dist-packages (from matplotlib->descartes) (2.4.7)\n",
            "Requirement already satisfied: kiwisolver>=1.0.1 in /usr/local/lib/python3.7/dist-packages (from matplotlib->descartes) (1.3.2)\n",
            "Requirement already satisfied: six in /usr/local/lib/python3.7/dist-packages (from cycler>=0.10->matplotlib->descartes) (1.15.0)\n"
          ]
        }
      ]
    },
    {
      "cell_type": "code",
      "metadata": {
        "id": "04joilrokPoK"
      },
      "source": [
        "import pandas as pd\n",
        "import numpy as np\n",
        "import geopandas as gpd\n",
        "from shapely.geometry import Point\n",
        "#import matplotlib\n",
        "#import matplotlib.pyplot as plt \n",
        "#import folium\n",
        "#import plotly_express as px"
      ],
      "execution_count": 4,
      "outputs": []
    },
    {
      "cell_type": "code",
      "metadata": {
        "colab": {
          "base_uri": "https://localhost:8080/"
        },
        "id": "TJrg7KSemffj",
        "outputId": "60f2d058-f4f2-4d42-db08-081bd501a9ca"
      },
      "source": [
        "ee.Authenticate()\n",
        "ee.Initialize()"
      ],
      "execution_count": 5,
      "outputs": [
        {
          "output_type": "stream",
          "name": "stdout",
          "text": [
            "To authorize access needed by Earth Engine, open the following URL in a web browser and follow the instructions. If the web browser does not start automatically, please manually browse the URL below.\n",
            "\n",
            "    https://accounts.google.com/o/oauth2/auth?client_id=517222506229-vsmmajv00ul0bs7p89v5m89qs8eb9359.apps.googleusercontent.com&scope=https%3A%2F%2Fwww.googleapis.com%2Fauth%2Fearthengine+https%3A%2F%2Fwww.googleapis.com%2Fauth%2Fdevstorage.full_control&redirect_uri=urn%3Aietf%3Awg%3Aoauth%3A2.0%3Aoob&response_type=code&code_challenge=V6tYHFriI70TymOsApPJjGgu4MEQaquNUr-y9C7YpUQ&code_challenge_method=S256\n",
            "\n",
            "The authorization workflow will generate a code, which you should paste in the box below. \n",
            "Enter verification code: 4/1AX4XfWhGKVCR5s-ly8X8BoYKP0zE-xtOwJ_E11PvSo7rGXr09imCkugpQmA\n",
            "\n",
            "Successfully saved authorization token.\n"
          ]
        }
      ]
    },
    {
      "cell_type": "code",
      "metadata": {
        "id": "84C2aBL1kkma"
      },
      "source": [
        "#in_csv = 'https://github.com/andradejmn/Evapo_Global/blob/main/Coordenadas_Torres.csv'\n",
        "in_csv = '/content/Coordenadas_Torres.csv'"
      ],
      "execution_count": 6,
      "outputs": []
    },
    {
      "cell_type": "code",
      "metadata": {
        "colab": {
          "base_uri": "https://localhost:8080/",
          "height": 450
        },
        "id": "OVqOoqjhlYgD",
        "outputId": "92bf1eaf-2791-46d8-83e9-dcc3ea789599"
      },
      "source": [
        "df = pd.read_csv(in_csv)\n",
        "df.head()\n",
        "df_2=(df.iloc[0, :])\n",
        "#print(df.iloc[0, 0:2])\n",
        "print(df.iloc[0, :])\n",
        "print(df_2)\n",
        "#df[df.ID=\"AU-ASM\"]"
      ],
      "execution_count": 7,
      "outputs": [
        {
          "output_type": "error",
          "ename": "FileNotFoundError",
          "evalue": "ignored",
          "traceback": [
            "\u001b[0;31m---------------------------------------------------------------------------\u001b[0m",
            "\u001b[0;31mFileNotFoundError\u001b[0m                         Traceback (most recent call last)",
            "\u001b[0;32m<ipython-input-7-82fefed8ff13>\u001b[0m in \u001b[0;36m<module>\u001b[0;34m()\u001b[0m\n\u001b[0;32m----> 1\u001b[0;31m \u001b[0mdf\u001b[0m \u001b[0;34m=\u001b[0m \u001b[0mpd\u001b[0m\u001b[0;34m.\u001b[0m\u001b[0mread_csv\u001b[0m\u001b[0;34m(\u001b[0m\u001b[0min_csv\u001b[0m\u001b[0;34m)\u001b[0m\u001b[0;34m\u001b[0m\u001b[0;34m\u001b[0m\u001b[0m\n\u001b[0m\u001b[1;32m      2\u001b[0m \u001b[0mdf\u001b[0m\u001b[0;34m.\u001b[0m\u001b[0mhead\u001b[0m\u001b[0;34m(\u001b[0m\u001b[0;34m)\u001b[0m\u001b[0;34m\u001b[0m\u001b[0;34m\u001b[0m\u001b[0m\n\u001b[1;32m      3\u001b[0m \u001b[0mdf_2\u001b[0m\u001b[0;34m=\u001b[0m\u001b[0;34m(\u001b[0m\u001b[0mdf\u001b[0m\u001b[0;34m.\u001b[0m\u001b[0miloc\u001b[0m\u001b[0;34m[\u001b[0m\u001b[0;36m0\u001b[0m\u001b[0;34m,\u001b[0m \u001b[0;34m:\u001b[0m\u001b[0;34m]\u001b[0m\u001b[0;34m)\u001b[0m\u001b[0;34m\u001b[0m\u001b[0;34m\u001b[0m\u001b[0m\n\u001b[1;32m      4\u001b[0m \u001b[0;31m#print(df.iloc[0, 0:2])\u001b[0m\u001b[0;34m\u001b[0m\u001b[0;34m\u001b[0m\u001b[0;34m\u001b[0m\u001b[0m\n\u001b[1;32m      5\u001b[0m \u001b[0mprint\u001b[0m\u001b[0;34m(\u001b[0m\u001b[0mdf\u001b[0m\u001b[0;34m.\u001b[0m\u001b[0miloc\u001b[0m\u001b[0;34m[\u001b[0m\u001b[0;36m0\u001b[0m\u001b[0;34m,\u001b[0m \u001b[0;34m:\u001b[0m\u001b[0;34m]\u001b[0m\u001b[0;34m)\u001b[0m\u001b[0;34m\u001b[0m\u001b[0;34m\u001b[0m\u001b[0m\n",
            "\u001b[0;32m/usr/local/lib/python3.7/dist-packages/pandas/io/parsers.py\u001b[0m in \u001b[0;36mread_csv\u001b[0;34m(filepath_or_buffer, sep, delimiter, header, names, index_col, usecols, squeeze, prefix, mangle_dupe_cols, dtype, engine, converters, true_values, false_values, skipinitialspace, skiprows, skipfooter, nrows, na_values, keep_default_na, na_filter, verbose, skip_blank_lines, parse_dates, infer_datetime_format, keep_date_col, date_parser, dayfirst, cache_dates, iterator, chunksize, compression, thousands, decimal, lineterminator, quotechar, quoting, doublequote, escapechar, comment, encoding, dialect, error_bad_lines, warn_bad_lines, delim_whitespace, low_memory, memory_map, float_precision)\u001b[0m\n\u001b[1;32m    686\u001b[0m     )\n\u001b[1;32m    687\u001b[0m \u001b[0;34m\u001b[0m\u001b[0m\n\u001b[0;32m--> 688\u001b[0;31m     \u001b[0;32mreturn\u001b[0m \u001b[0m_read\u001b[0m\u001b[0;34m(\u001b[0m\u001b[0mfilepath_or_buffer\u001b[0m\u001b[0;34m,\u001b[0m \u001b[0mkwds\u001b[0m\u001b[0;34m)\u001b[0m\u001b[0;34m\u001b[0m\u001b[0;34m\u001b[0m\u001b[0m\n\u001b[0m\u001b[1;32m    689\u001b[0m \u001b[0;34m\u001b[0m\u001b[0m\n\u001b[1;32m    690\u001b[0m \u001b[0;34m\u001b[0m\u001b[0m\n",
            "\u001b[0;32m/usr/local/lib/python3.7/dist-packages/pandas/io/parsers.py\u001b[0m in \u001b[0;36m_read\u001b[0;34m(filepath_or_buffer, kwds)\u001b[0m\n\u001b[1;32m    452\u001b[0m \u001b[0;34m\u001b[0m\u001b[0m\n\u001b[1;32m    453\u001b[0m     \u001b[0;31m# Create the parser.\u001b[0m\u001b[0;34m\u001b[0m\u001b[0;34m\u001b[0m\u001b[0;34m\u001b[0m\u001b[0m\n\u001b[0;32m--> 454\u001b[0;31m     \u001b[0mparser\u001b[0m \u001b[0;34m=\u001b[0m \u001b[0mTextFileReader\u001b[0m\u001b[0;34m(\u001b[0m\u001b[0mfp_or_buf\u001b[0m\u001b[0;34m,\u001b[0m \u001b[0;34m**\u001b[0m\u001b[0mkwds\u001b[0m\u001b[0;34m)\u001b[0m\u001b[0;34m\u001b[0m\u001b[0;34m\u001b[0m\u001b[0m\n\u001b[0m\u001b[1;32m    455\u001b[0m \u001b[0;34m\u001b[0m\u001b[0m\n\u001b[1;32m    456\u001b[0m     \u001b[0;32mif\u001b[0m \u001b[0mchunksize\u001b[0m \u001b[0;32mor\u001b[0m \u001b[0miterator\u001b[0m\u001b[0;34m:\u001b[0m\u001b[0;34m\u001b[0m\u001b[0;34m\u001b[0m\u001b[0m\n",
            "\u001b[0;32m/usr/local/lib/python3.7/dist-packages/pandas/io/parsers.py\u001b[0m in \u001b[0;36m__init__\u001b[0;34m(self, f, engine, **kwds)\u001b[0m\n\u001b[1;32m    946\u001b[0m             \u001b[0mself\u001b[0m\u001b[0;34m.\u001b[0m\u001b[0moptions\u001b[0m\u001b[0;34m[\u001b[0m\u001b[0;34m\"has_index_names\"\u001b[0m\u001b[0;34m]\u001b[0m \u001b[0;34m=\u001b[0m \u001b[0mkwds\u001b[0m\u001b[0;34m[\u001b[0m\u001b[0;34m\"has_index_names\"\u001b[0m\u001b[0;34m]\u001b[0m\u001b[0;34m\u001b[0m\u001b[0;34m\u001b[0m\u001b[0m\n\u001b[1;32m    947\u001b[0m \u001b[0;34m\u001b[0m\u001b[0m\n\u001b[0;32m--> 948\u001b[0;31m         \u001b[0mself\u001b[0m\u001b[0;34m.\u001b[0m\u001b[0m_make_engine\u001b[0m\u001b[0;34m(\u001b[0m\u001b[0mself\u001b[0m\u001b[0;34m.\u001b[0m\u001b[0mengine\u001b[0m\u001b[0;34m)\u001b[0m\u001b[0;34m\u001b[0m\u001b[0;34m\u001b[0m\u001b[0m\n\u001b[0m\u001b[1;32m    949\u001b[0m \u001b[0;34m\u001b[0m\u001b[0m\n\u001b[1;32m    950\u001b[0m     \u001b[0;32mdef\u001b[0m \u001b[0mclose\u001b[0m\u001b[0;34m(\u001b[0m\u001b[0mself\u001b[0m\u001b[0;34m)\u001b[0m\u001b[0;34m:\u001b[0m\u001b[0;34m\u001b[0m\u001b[0;34m\u001b[0m\u001b[0m\n",
            "\u001b[0;32m/usr/local/lib/python3.7/dist-packages/pandas/io/parsers.py\u001b[0m in \u001b[0;36m_make_engine\u001b[0;34m(self, engine)\u001b[0m\n\u001b[1;32m   1178\u001b[0m     \u001b[0;32mdef\u001b[0m \u001b[0m_make_engine\u001b[0m\u001b[0;34m(\u001b[0m\u001b[0mself\u001b[0m\u001b[0;34m,\u001b[0m \u001b[0mengine\u001b[0m\u001b[0;34m=\u001b[0m\u001b[0;34m\"c\"\u001b[0m\u001b[0;34m)\u001b[0m\u001b[0;34m:\u001b[0m\u001b[0;34m\u001b[0m\u001b[0;34m\u001b[0m\u001b[0m\n\u001b[1;32m   1179\u001b[0m         \u001b[0;32mif\u001b[0m \u001b[0mengine\u001b[0m \u001b[0;34m==\u001b[0m \u001b[0;34m\"c\"\u001b[0m\u001b[0;34m:\u001b[0m\u001b[0;34m\u001b[0m\u001b[0;34m\u001b[0m\u001b[0m\n\u001b[0;32m-> 1180\u001b[0;31m             \u001b[0mself\u001b[0m\u001b[0;34m.\u001b[0m\u001b[0m_engine\u001b[0m \u001b[0;34m=\u001b[0m \u001b[0mCParserWrapper\u001b[0m\u001b[0;34m(\u001b[0m\u001b[0mself\u001b[0m\u001b[0;34m.\u001b[0m\u001b[0mf\u001b[0m\u001b[0;34m,\u001b[0m \u001b[0;34m**\u001b[0m\u001b[0mself\u001b[0m\u001b[0;34m.\u001b[0m\u001b[0moptions\u001b[0m\u001b[0;34m)\u001b[0m\u001b[0;34m\u001b[0m\u001b[0;34m\u001b[0m\u001b[0m\n\u001b[0m\u001b[1;32m   1181\u001b[0m         \u001b[0;32melse\u001b[0m\u001b[0;34m:\u001b[0m\u001b[0;34m\u001b[0m\u001b[0;34m\u001b[0m\u001b[0m\n\u001b[1;32m   1182\u001b[0m             \u001b[0;32mif\u001b[0m \u001b[0mengine\u001b[0m \u001b[0;34m==\u001b[0m \u001b[0;34m\"python\"\u001b[0m\u001b[0;34m:\u001b[0m\u001b[0;34m\u001b[0m\u001b[0;34m\u001b[0m\u001b[0m\n",
            "\u001b[0;32m/usr/local/lib/python3.7/dist-packages/pandas/io/parsers.py\u001b[0m in \u001b[0;36m__init__\u001b[0;34m(self, src, **kwds)\u001b[0m\n\u001b[1;32m   2008\u001b[0m         \u001b[0mkwds\u001b[0m\u001b[0;34m[\u001b[0m\u001b[0;34m\"usecols\"\u001b[0m\u001b[0;34m]\u001b[0m \u001b[0;34m=\u001b[0m \u001b[0mself\u001b[0m\u001b[0;34m.\u001b[0m\u001b[0musecols\u001b[0m\u001b[0;34m\u001b[0m\u001b[0;34m\u001b[0m\u001b[0m\n\u001b[1;32m   2009\u001b[0m \u001b[0;34m\u001b[0m\u001b[0m\n\u001b[0;32m-> 2010\u001b[0;31m         \u001b[0mself\u001b[0m\u001b[0;34m.\u001b[0m\u001b[0m_reader\u001b[0m \u001b[0;34m=\u001b[0m \u001b[0mparsers\u001b[0m\u001b[0;34m.\u001b[0m\u001b[0mTextReader\u001b[0m\u001b[0;34m(\u001b[0m\u001b[0msrc\u001b[0m\u001b[0;34m,\u001b[0m \u001b[0;34m**\u001b[0m\u001b[0mkwds\u001b[0m\u001b[0;34m)\u001b[0m\u001b[0;34m\u001b[0m\u001b[0;34m\u001b[0m\u001b[0m\n\u001b[0m\u001b[1;32m   2011\u001b[0m         \u001b[0mself\u001b[0m\u001b[0;34m.\u001b[0m\u001b[0munnamed_cols\u001b[0m \u001b[0;34m=\u001b[0m \u001b[0mself\u001b[0m\u001b[0;34m.\u001b[0m\u001b[0m_reader\u001b[0m\u001b[0;34m.\u001b[0m\u001b[0munnamed_cols\u001b[0m\u001b[0;34m\u001b[0m\u001b[0;34m\u001b[0m\u001b[0m\n\u001b[1;32m   2012\u001b[0m \u001b[0;34m\u001b[0m\u001b[0m\n",
            "\u001b[0;32mpandas/_libs/parsers.pyx\u001b[0m in \u001b[0;36mpandas._libs.parsers.TextReader.__cinit__\u001b[0;34m()\u001b[0m\n",
            "\u001b[0;32mpandas/_libs/parsers.pyx\u001b[0m in \u001b[0;36mpandas._libs.parsers.TextReader._setup_parser_source\u001b[0;34m()\u001b[0m\n",
            "\u001b[0;31mFileNotFoundError\u001b[0m: [Errno 2] No such file or directory: '/content/Coordenadas_Torres.csv'"
          ]
        }
      ]
    },
    {
      "cell_type": "code",
      "metadata": {
        "id": "HR3DiVHrwOtJ"
      },
      "source": [
        "df_2=df.loc [df ['ID']==\"AU-ASM\"]"
      ],
      "execution_count": null,
      "outputs": []
    },
    {
      "cell_type": "code",
      "metadata": {
        "id": "TND1fMpnuXop"
      },
      "source": [
        "df_2.Time_end[0]"
      ],
      "execution_count": null,
      "outputs": []
    },
    {
      "cell_type": "code",
      "metadata": {
        "id": "y9GR__gUuSJq"
      },
      "source": [
        "Time_star=df_2.Time_end[0]\n",
        "Time_edn=df_2.Time_end[0]"
      ],
      "execution_count": null,
      "outputs": []
    },
    {
      "cell_type": "code",
      "metadata": {
        "id": "1s46fJq7t2ZJ"
      },
      "source": [
        "#print(df[student.ID=70])"
      ],
      "execution_count": null,
      "outputs": []
    },
    {
      "cell_type": "code",
      "metadata": {
        "id": "w5UgjHh4mP56"
      },
      "source": [
        "fc = geemap.pandas_to_ee(df_2, latitude=\"Latitude\", longitude=\"Longitude\")"
      ],
      "execution_count": null,
      "outputs": []
    },
    {
      "cell_type": "code",
      "metadata": {
        "id": "HZMRBzD5nFWD"
      },
      "source": [
        "Map = geemap.Map(center=[-22.7,-50.4], zoom=8)\n",
        "#Map"
      ],
      "execution_count": null,
      "outputs": []
    },
    {
      "cell_type": "code",
      "metadata": {
        "id": "1PKHteqCnRYB"
      },
      "source": [
        "Brasil = ee.Geometry.Rectangle(-75,5,-30,-40)\n",
        "Map.addLayer(Brasil, {}, \"pandas to ee\")\n",
        "Map.addLayer(fc, {}, \"pandas to ee\")\n",
        "Map"
      ],
      "execution_count": null,
      "outputs": []
    },
    {
      "cell_type": "markdown",
      "metadata": {
        "id": "ttqcVGH6w-6B"
      },
      "source": [
        "###Codigo de Evapotranspiração \n"
      ]
    },
    {
      "cell_type": "code",
      "metadata": {
        "id": "JJJ1tSLWw87R"
      },
      "source": [
        "#----------------------Analise na torre ------------------------------------------------------------------\n",
        "#Entre com o ano! //\n",
        "# Dados Globais \n",
        "#Time_star=df_2.Time_end[0]\n",
        "#Time_edn=df_2.Time_end[0]\n",
        "startDate =Time_star \n",
        "endDate = Time_edn\n",
        "\n",
        "pts =fc\n",
        "#pts."
      ],
      "execution_count": null,
      "outputs": []
    },
    {
      "cell_type": "code",
      "metadata": {
        "id": "MUCjCnMAzQNZ"
      },
      "source": [
        "df_2.Latitude[0]\n",
        "df_2.Longitude[0]"
      ],
      "execution_count": null,
      "outputs": []
    },
    {
      "cell_type": "code",
      "metadata": {
        "id": "4lyXD3uYzLdB"
      },
      "source": [
        "pts = ee.Geometry.Point([df_2.Latitude[0], df_2.Longitude[0]])"
      ],
      "execution_count": null,
      "outputs": []
    },
    {
      "cell_type": "code",
      "metadata": {
        "id": "lBkNlwk6dMCB"
      },
      "source": [
        ""
      ],
      "execution_count": null,
      "outputs": []
    },
    {
      "cell_type": "code",
      "metadata": {
        "id": "hyJ8vCgEyMOy"
      },
      "source": [
        "#----------------------região de interesse ------------------------------------------------------------------\n",
        "#pts_Center= pts.centroid() #Coleta do Centroide da AI \n",
        "#print(AT_shape)\n",
        "#AT=AT_Center.buffer(5000) #30 Km de Raio \n",
        "roi = pts.buffer(150000).bounds(); #Testar melhor buffer.\n",
        "Map.addLayer(roi,{},'roi')\n",
        "Map.centerObject(roi, 6)\n",
        "\n",
        "# Para clicar IC\n",
        "def clipper(image):\n",
        "  return image.clip(roi)\n"
      ],
      "execution_count": null,
      "outputs": []
    },
    {
      "cell_type": "code",
      "metadata": {
        "id": "mQJ0O23QbS3p"
      },
      "source": [
        "#----------------------funcoes ------------------------------------------------------------------\n",
        "# Para clicar IC\n",
        "def clipper(image):\n",
        "  return image.clip(roi)\n",
        "\n",
        "# Para setar date\n",
        "def dates(img):\n",
        "  date = img.date().format('YYYY-MM-dd')\n",
        "  return img.set('date', date)\n",
        "\n",
        "# Para scale dos produtos\n",
        "def scale1(scene):\n",
        "  scl = scene.multiply(0.0001)\n",
        "  return scl.set('system:time_start',scene.get('system:time_start'))\n",
        "\n",
        "def scale2(scene):\n",
        "  scl = scene.multiply(0.02)\n",
        "  return scl.set('system:time_start',scene.get('system:time_start'))\n",
        "\n",
        "# Para renomear LST\n",
        "def renome_terra(image):\n",
        "  return image.rename('LST_Terra')\n",
        "\n",
        "def renome_aqua(image):\n",
        "  return image.rename('LST_Aqua')\n",
        "\n",
        "# Para calcular indices biofisicos\n",
        "def calc_IB(image):\n",
        "  b1 = image.select(['Nadir_Reflectance_Band1'])\n",
        "  b2 = image.select(['Nadir_Reflectance_Band2'])\n",
        "  b3 = image.select(['Nadir_Reflectance_Band3'])\n",
        "  b4 = image.select(['Nadir_Reflectance_Band4'])\n",
        "  b5 = image.select(['Nadir_Reflectance_Band5'])\n",
        "  b6 = image.select(['Nadir_Reflectance_Band6'])\n",
        "  b7 = image.select(['Nadir_Reflectance_Band7'])\n",
        "\n",
        "  albedo = (b1.multiply(0.215)).add(b2.multiply(0.266)) \\\n",
        "  .add(b3.multiply(0.242)).add(b4.multiply(0.129)) \\\n",
        "  .add(b5.multiply(0.000)).add(b6.multiply(0.112)) \\\n",
        "  .add(b7.multiply(0.036)).rename('albedo')\n",
        "\n",
        "  ndvi = (b2.subtract(b1)).divide(b2.add(b1)).rename('ndvi')\n",
        "\n",
        "  img_1 = ee.Image.constant(0).toFloat().rename('img_1')\n",
        "\n",
        "  return image.set('system:time_start',image.get('system:time_start')) \\\n",
        "  .addBands(ee.Image(albedo).float()) \\\n",
        "  .addBands(ee.Image(ndvi).float()) \\\n",
        "  .addBands(ee.Image(img_1)) \\\n",
        "  .clip(roi)\n",
        "\n",
        "# Para unir conjunto de dados\n",
        "filterTimeEq = ee.Filter.equals({\n",
        "  'leftField': 'date',\n",
        "  'rightField': 'date'\n",
        "})\n",
        "def cat(feature):\n",
        "  return ee.Image.cat(feature.get('primary'), feature.get('secondary'))"
      ],
      "execution_count": null,
      "outputs": []
    },
    {
      "cell_type": "code",
      "metadata": {
        "id": "gTGEt_racxzI"
      },
      "source": [
        "#----------------------Lista de coeficientes ------------------------------------------------------------------\n",
        "# conversão Kelvin to Celsius\n",
        "c3 = ee.Number(273.15)\n",
        "# Von karman constant\n",
        "von = ee.Number(0.41)\n",
        "#Stefan-Boltzmann constant\n",
        "sigma_SB = ee.Number(0.000000056704)\n",
        "\n",
        "#----------------------Dados de entrada------------------------------------------------------------------\n",
        "# Dados de reflectancia\n",
        "dataset_MCD43A4 = ee.ImageCollection('MODIS/006/MCD43A4') \\\n",
        "                  .filter(ee.Filter.date(startDate, endDate)) \\\n",
        "                  .map(clipper) \\\n",
        "                  .map(dates)\n",
        "\n",
        "#print(dataset_MCD43A4)\n",
        "\n",
        "# Temperatura de superficie\n",
        "# Terra\n",
        "LST = ee.ImageCollection('MODIS/006/MOD11A1') \\\n",
        "          .filter(ee.Filter.date(startDate, endDate)) \\\n",
        "          .select('LST_Day_1km') \\\n",
        "          .map(scale2) \\\n",
        "          .map(clipper) \\\n",
        "          .map(dates) \\\n",
        "          .map(renome_terra)\n",
        "# print(LST)\n",
        "# Map.addLayer(LST,{},'LST')\n",
        "\n",
        "# Aqua\n",
        "LST1 = ee.ImageCollection(\"MODIS/006/MYD11A1\") \\\n",
        "  .filter(ee.Filter.date(startDate, endDate)) \\\n",
        "          .select('LST_Day_1km') \\\n",
        "          .map(scale2) \\\n",
        "          .map(clipper) \\\n",
        "          .map(dates) \\\n",
        "          .map(renome_aqua)\n",
        "# print(LST1)\n",
        "# Map.addLayer(LST1,{},'LST1')"
      ],
      "execution_count": null,
      "outputs": []
    },
    {
      "cell_type": "code",
      "metadata": {
        "id": "V90KH3iEdalZ"
      },
      "source": [
        "#----------------------Computo de variaveis------------------------------------------------------------------\n",
        "reflec_nadir = dataset_MCD43A4.map(scale1).map(dates)\n",
        "\n",
        "IndexBiofisico = (reflec_nadir.map(calc_IB)).select(['albedo','ndvi','img_1'])\n",
        "#print(IndexBiofisico,'IndexBiofisico')\n",
        "\n",
        "Data_set_combineLST = ee.ImageCollection(ee.Join.inner().apply(LST, LST1, filterTimeEq)).set('foo', {})\n",
        "Data_set_combineLST = Data_set_combineLST.map(cat)\n",
        "# print(Data_set_combineLST,'Data_set_combineLST')\n",
        "\n",
        "Data_set_combineLST_IB = ee.ImageCollection(ee.Join.inner().apply(IndexBiofisico, Data_set_combineLST, filterTimeEq))\n",
        "Data_set_combineLST_IB = Data_set_combineLST_IB.map(cat)\n",
        "#print(Data_set_combineLST_IB,'Data_set_combineLST_IB')"
      ],
      "execution_count": null,
      "outputs": []
    },
    {
      "cell_type": "code",
      "metadata": {
        "id": "5au2QufcduY3"
      },
      "source": [
        "#----------------------Seleção pixels frio e quente------------------------------------------------------------------\n",
        "# quente\n",
        "def calc_pq(image):\n",
        "  albedo = image.select(['albedo'])\n",
        "  ndvi = image.select(['ndvi'])\n",
        "  lst = image.select(['LST_Terra'])\n",
        "\n",
        "  alb_cand_pq_inf = albedo.reduceRegion(**{\n",
        "    'reducer': ee.Reducer.percentile([50]),\n",
        "    'geometry': roi,\n",
        "    #scale: 30,\n",
        "    'bestEffort': True\n",
        "    #maxPixels: 1e9\n",
        "    })\n",
        "\n",
        "  alb_cand_pq_inf = alb_cand_pq_inf.toImage()\n",
        "  alb_cand_pq_inf = alb_cand_pq_inf.clip(roi)\n",
        "\n",
        "  alb_cand_pq_sup = albedo.reduceRegion(**{\n",
        "    'reducer': ee.Reducer.percentile([75]),\n",
        "    'geometry': roi,\n",
        "    #scale: 30,\n",
        "    'bestEffort': True\n",
        "    #maxPixels: 1e9\n",
        "    })\n",
        "\n",
        "  alb_cand_pq_sup = alb_cand_pq_sup.toImage()\n",
        "  alb_cand_pq_sup = alb_cand_pq_sup.clip(roi)\n",
        "\n",
        "  ndvi_cand_pq_sup = ndvi.reduceRegion(**{\n",
        "    'reducer': ee.Reducer.percentile([15]),\n",
        "    'geometry': roi,\n",
        "    #scale: 30,\n",
        "    'bestEffort': True\n",
        "    #maxPixels: 1e9\n",
        "    })\n",
        "\n",
        "  ndvi_cand_pq_sup = ndvi_cand_pq_sup.toImage()\n",
        "  ndvi_cand_pq_sup = ndvi_cand_pq_sup.clip(roi)\n",
        "\n",
        "  cand_pq_alb_ndvi = (albedo.gt(alb_cand_pq_inf).And(albedo.lt(alb_cand_pq_sup))) \\\n",
        "  .And((ndvi.gt(0.10).And(ndvi.lt(ndvi_cand_pq_sup))))\n",
        "\n",
        "  lst_pq = lst.multiply(cand_pq_alb_ndvi)\n",
        "  lst_pq = lst_pq.selfMask()\n",
        "\n",
        "  lst_cand_pq_sup = lst_pq.reduceRegion(**{\n",
        "    'reducer': ee.Reducer.percentile([97]),\n",
        "    'geometry': roi,\n",
        "    #scale: 30,\n",
        "    'bestEffort': True\n",
        "    #maxPixels: 1e9\n",
        "    })\n",
        "\n",
        "  lst_cand_pq_sup = lst_cand_pq_sup.toImage()\n",
        "  lst_cand_pq_sup = lst_cand_pq_sup.clip(roi)\n",
        "\n",
        "  lst_cand_pq_inf = lst_pq.reduceRegion(**{\n",
        "    'reducer': ee.Reducer.percentile([95]),\n",
        "    'geometry': roi,\n",
        "    #scale: 30,\n",
        "    'bestEffort': True\n",
        "    #maxPixels: 1e9\n",
        "    })\n",
        "\n",
        "  lst_cand_pq_inf = lst_cand_pq_inf.toImage()\n",
        "  lst_cand_pq_inf = lst_cand_pq_inf.clip(roi)\n",
        "\n",
        "  cand_pq_alb_ndvi_lst = (lst.gt(lst_cand_pq_inf).And(lst.lt(lst_cand_pq_sup))).multiply(cand_pq_alb_ndvi)\n",
        "  cand_pq_alb_ndvi_lst = cand_pq_alb_ndvi_lst.selfMask().rename('cand_pq')\n",
        "  return image.set('system:time_start',image.get('system:time_start')).addBands(ee.Image(cand_pq_alb_ndvi_lst).float())"
      ],
      "execution_count": null,
      "outputs": []
    },
    {
      "cell_type": "code",
      "metadata": {
        "id": "UcxI2A90dx5n"
      },
      "source": [
        "Data_set_combineLST_IB2 = Data_set_combineLST_IB.map(calc_pq)\n",
        "#print(Data_set_combineLST_IB,'Data_set_combineLST_IB')"
      ],
      "execution_count": null,
      "outputs": []
    },
    {
      "cell_type": "code",
      "metadata": {
        "id": "-GT-PlOzdg_Y"
      },
      "source": [
        "# frio\n",
        "def calc_pf(image):\n",
        "  albedo = image.select(['albedo'])\n",
        "  ndvi = image.select(['ndvi'])\n",
        "  lst = image.select(['LST_Terra'])\n",
        "\n",
        "  alb_cand_pf_inf = albedo.reduceRegion(**{\n",
        "    'reducer': ee.Reducer.percentile([25]),\n",
        "    'geometry': roi,\n",
        "    #scale: 30,\n",
        "    'bestEffort': True\n",
        "    #maxPixels: 1e9\n",
        "    })\n",
        "\n",
        "  alb_cand_pf_inf = alb_cand_pf_inf.toImage()\n",
        "  alb_cand_pf_inf = alb_cand_pf_inf.clip(roi)\n",
        "\n",
        "  alb_cand_pf_sup = albedo.reduceRegion(**{\n",
        "    'reducer': ee.Reducer.percentile([50]),\n",
        "    'geometry': roi,\n",
        "    #scale: 30,\n",
        "    'bestEffort': True\n",
        "    #maxPixels: 1e9\n",
        "    })\n",
        "\n",
        "  alb_cand_pf_sup = alb_cand_pf_sup.toImage()\n",
        "  alb_cand_pf_sup = alb_cand_pf_sup.clip(roi)\n",
        "\n",
        "  ndvi_cand_pf_sup = ndvi.reduceRegion(**{\n",
        "    'reducer': ee.Reducer.percentile([97]),\n",
        "    'geometry': roi,\n",
        "    #scale: 30,\n",
        "    'bestEffort': True\n",
        "    #maxPixels: 1e9\n",
        "    })\n",
        "\n",
        "  ndvi_cand_pf_sup = ndvi_cand_pf_sup.toImage()\n",
        "  ndvi_cand_pf_sup = ndvi_cand_pf_sup.clip(roi)\n",
        "\n",
        "  cand_pf_alb_ndvi = (albedo.gt(alb_cand_pf_inf).And(albedo.lt(alb_cand_pf_sup))) \\\n",
        "  .And((ndvi.gt(ndvi_cand_pf_sup).And(ndvi.lt(0.99))))\n",
        "\n",
        "  lst_pf = lst.multiply(cand_pf_alb_ndvi)\n",
        "  lst_pf = lst_pf.selfMask()\n",
        "\n",
        "  lst_cand_pf_sup = lst_pf.reduceRegion(**{\n",
        "    'reducer': ee.Reducer.percentile([10]),\n",
        "    'geometry': roi,\n",
        "    #scale: 30,\n",
        "    'bestEffort': True\n",
        "    #maxPixels: 1e9\n",
        "    })\n",
        "\n",
        "  lst_cand_pf_sup = lst_cand_pf_sup.toImage()\n",
        "  lst_cand_pf_sup = lst_cand_pf_sup.clip(roi)\n",
        "\n",
        "  lst_cand_pf_inf = lst_pf.reduceRegion(**{\n",
        "    'reducer': ee.Reducer.percentile([0]),\n",
        "    'geometry': roi,\n",
        "    #scale: 30,\n",
        "    'bestEffort': True\n",
        "    #maxPixels: 1e9\n",
        "    })\n",
        "\n",
        "  lst_cand_pf_inf = lst_cand_pf_inf.toImage()\n",
        "  lst_cand_pf_inf = lst_cand_pf_inf.clip(roi)\n",
        "\n",
        "  cand_pf_alb_ndvi_lst = (lst.gt(lst_cand_pf_inf).And(lst.lt(lst_cand_pf_sup))) \\\n",
        "  .multiply(cand_pf_alb_ndvi)\n",
        "\n",
        "  cand_pf_alb_ndvi_lst = cand_pf_alb_ndvi_lst.selfMask().rename('cand_pf')\n",
        "\n",
        "  return image.set('system:time_start',image.get('system:time_start')) \\\n",
        "  .addBands(ee.Image(cand_pf_alb_ndvi_lst).float())\n"
      ],
      "execution_count": null,
      "outputs": []
    },
    {
      "cell_type": "code",
      "metadata": {
        "id": "2x-49dcHfmWv"
      },
      "source": [
        "Data_set_combineLST_IB = Data_set_combineLST_IB.map(calc_pf)\n",
        "#print(Data_set_combineLST_IB,'Data_set_combineLST_IB')"
      ],
      "execution_count": null,
      "outputs": []
    },
    {
      "cell_type": "code",
      "metadata": {
        "id": "d8m5SThAfrs_"
      },
      "source": [
        "#----------------------calculo FE------------------------------------------------------------------\n",
        "def calc_FE(image):\n",
        "  cand_pq = image.select(['cand_pq'])\n",
        "  cand_pf = image.select(['cand_pf'])\n",
        "  lst = image.select(['LST_Terra'])\n",
        "\n",
        "  lst_hot_temp = (lst.multiply(cand_pq))\n",
        "\n",
        "  lst_hot = lst_hot_temp.reduceRegion(**{\n",
        "  'reducer': ee.Reducer.median(),\n",
        "  'geometry': roi,\n",
        "  #scale: 30,\n",
        "   'bestEffort': True\n",
        "  #maxPixels: 1e9\n",
        "  })\n",
        "  lst_hot = lst_hot.toImage().rename('lst_hot')\n",
        "  lst_hot = (lst_hot.clip(roi))\n",
        "\n",
        "  lst_cold_temp = (lst.multiply(cand_pf))\n",
        "\n",
        "  lst_cold = lst_cold_temp.reduceRegion(**{\n",
        "  'reducer': ee.Reducer.median(),\n",
        "  'geometry': roi,\n",
        "  #scale: 30,\n",
        "   'bestEffort': True\n",
        "  #maxPixels: 1e9\n",
        "  })\n",
        "  lst_cold = lst_cold.toImage().rename('lst_cold')\n",
        "  lst_cold = (lst_cold.clip(roi))\n",
        "\n",
        "  FE = ((lst_hot.subtract(lst)).divide((lst_hot.subtract(lst_cold)))) \\\n",
        "  .rename('FE')\n",
        "\n",
        "  return image.set('system:time_start',image.get('system:time_start')) \\\n",
        "  .addBands(ee.Image(lst_hot).float()) \\\n",
        "  .addBands(ee.Image(lst_cold).float()) \\\n",
        "  .addBands(ee.Image(FE).float())\n"
      ],
      "execution_count": null,
      "outputs": []
    },
    {
      "cell_type": "code",
      "metadata": {
        "id": "ohvT-h5_ftX-"
      },
      "source": [
        "Data_set_combineLST_IB = Data_set_combineLST_IB.map(calc_FE)\n",
        "#print(Data_set_combineLST_IB,'Data_set_combineLST_IB')"
      ],
      "execution_count": null,
      "outputs": []
    },
    {
      "cell_type": "code",
      "metadata": {
        "id": "nuJwG_0EgFon"
      },
      "source": [
        "#----------------------Dados climaticos ERA5 land------------------------------------------------------------------\n",
        "climatic_hour = ee.ImageCollection(\"ECMWF/ERA5_LAND/HOURLY\") \\\n",
        "                  .filter(ee.Filter.date(startDate, endDate)) \\\n",
        "                  .select(['surface_net_solar_radiation_hourly','surface_net_thermal_radiation_hourly']) \\\n",
        "                  .map(clipper) \\\n",
        "                  .map(dates)"
      ],
      "execution_count": null,
      "outputs": []
    },
    {
      "cell_type": "code",
      "metadata": {
        "id": "I8Qjfpiqge4P"
      },
      "source": [
        "StartYear = 2014;\n",
        "startDate = ee.Date.fromYMD(StartYear, 1, 1);\n",
        "endDate = (startDate.advance(1,'year'));\n",
        "#print(startDate)\n",
        "startDate2=ee.Date(2014-12-31)\n",
        "#print(startDate2)"
      ],
      "execution_count": null,
      "outputs": []
    },
    {
      "cell_type": "code",
      "metadata": {
        "id": "j93U8c3AkDk_"
      },
      "source": [
        "def func_xbo (dayOffset):\n",
        "    start_ = startDate.advance(dayOffset, 'days')\n",
        "    end_ = start_.advance(1, 'days')\n",
        "\n",
        "    bd = start_\n",
        "    ed = bd.advance(1, 'days')\n",
        "    serie_diaria = climatic_hour.filterDate(bd, ed)\n",
        "    climatica_day = serie_diaria.sum().divide(86400)\n",
        "\n",
        "    return climatica_day.set('system:time_start', serie_diaria.first().get('system:time_start')) \\\n",
        "\n"
      ],
      "execution_count": null,
      "outputs": []
    },
    {
      "cell_type": "code",
      "metadata": {
        "id": "xa6euGpbgHle"
      },
      "source": [
        "numberOfDays = endDate.difference(ee.Date(startDate2), 'days')\n",
        "#print(startDate)\n",
        "climatic_daily = ee.ImageCollection(ee.List.sequence(0, numberOfDays.subtract(1))).map(func_xbo)"
      ],
      "execution_count": null,
      "outputs": []
    },
    {
      "cell_type": "code",
      "metadata": {
        "id": "VuGK-4shkT6-"
      },
      "source": [
        "def calc_Rn_d(image):\n",
        "  convert_Rs = image.select(['surface_net_solar_radiation_hourly'])\n",
        "  convert_Rl = image.select(['surface_net_thermal_radiation_hourly'])\n",
        "\n",
        "  Rn_d = (convert_Rs.add(convert_Rl)).rename('Rn_d')\n",
        "\n",
        "  return image.set('system:time_start',image.get('system:time_start')) \\\n",
        "  .addBands(ee.Image(Rn_d).float())"
      ],
      "execution_count": null,
      "outputs": []
    },
    {
      "cell_type": "code",
      "metadata": {
        "id": "AkYgGAdCinGY"
      },
      "source": [
        "Rn_d = climatic_daily.map(calc_Rn_d).map(dates)\n",
        "#print('Rn_d:', Rn_d)\n",
        "\n",
        "Data_set_combineLST_IB = ee.ImageCollection(ee.Join.inner().apply(Data_set_combineLST_IB, Rn_d, filterTimeEq))\n",
        "Data_set_combineLST_IB = Data_set_combineLST_IB.map(cat)\n",
        "#print(Data_set_combineLST_IB,'Data_set_combineLST_IB')\n",
        "\n",
        "def calc_ET_day(image):\n",
        "  Rn_24 = image.select(['Rn_d'])\n",
        "  FE = image.select(['FE'])\n",
        "\n",
        "  ET_d = FE.multiply(0.035).multiply(Rn_24).rename('ET_d')\n",
        "\n",
        "  return image.set('system:time_start',image.get('system:time_start')) \\\n",
        "  .addBands(ee.Image(ET_d).float())\n",
        "\n",
        "Data_set_combineLST_IB = Data_set_combineLST_IB.map(calc_ET_day)\n",
        "#print(Data_set_combineLST_IB,'Data_set_combineLST_IB')\n",
        "\n",
        "ET_d = Data_set_combineLST_IB.select('ET_d')\n",
        "#print('ET_d:', ET_d)"
      ],
      "execution_count": null,
      "outputs": []
    },
    {
      "cell_type": "code",
      "metadata": {
        "id": "rjf2_XnYlUXs"
      },
      "source": [
        "#ET_d.getInfo()\n",
        "rn_data = (((ET_d.getInfo()['features'])[0])['properties'])\n",
        "\n",
        "#data_gee_rn = pd.DataFrame([rn_data]).T\n",
        "#(data_gee_rn.set_index(dates,inplace=True))\n",
        "sim_rn = pd.to_numeric(data_gee_rn[0])"
      ],
      "execution_count": null,
      "outputs": []
    },
    {
      "cell_type": "code",
      "metadata": {
        "id": "5oYF06B8jIBp"
      },
      "source": [
        "#print('ET_d:', ET_d.getInfo)\n"
      ],
      "execution_count": null,
      "outputs": []
    }
  ]
}